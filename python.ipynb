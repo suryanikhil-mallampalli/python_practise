{
  "cells": [
    {
      "cell_type": "markdown",
      "metadata": {
        "id": "view-in-github",
        "colab_type": "text"
      },
      "source": [
        "<a href=\"https://colab.research.google.com/github/suryanikhil-mallampalli/python_practise/blob/main/python.ipynb\" target=\"_parent\"><img src=\"https://colab.research.google.com/assets/colab-badge.svg\" alt=\"Open In Colab\"/></a>"
      ]
    },
    {
      "cell_type": "code",
      "execution_count": null,
      "metadata": {
        "colab": {
          "base_uri": "https://localhost:8080/"
        },
        "id": "aXCK8JGMDNJC",
        "outputId": "2bb87529-4b77-4cca-a072-357fdfcc3902"
      },
      "outputs": [
        {
          "name": "stdout",
          "output_type": "stream",
          "text": [
            "hello surya\n"
          ]
        }
      ],
      "source": [
        "def name_of_function(name):\n",
        "  ''' displays hello world'''\n",
        "  print(\"hello \"+name)\n",
        "name_of_function(\"surya\")"
      ]
    },
    {
      "cell_type": "code",
      "execution_count": null,
      "metadata": {
        "colab": {
          "base_uri": "https://localhost:8080/"
        },
        "id": "16djMhTBH_37",
        "outputId": "f6058fe7-29cc-4343-c240-9a5ed7deae0e"
      },
      "outputs": [
        {
          "name": "stdout",
          "output_type": "stream",
          "text": [
            "Hello Default\n"
          ]
        }
      ],
      "source": [
        "def say_hello(name='Default'):\n",
        "  print(f'Hello {name}')\n",
        "say_hello()"
      ]
    },
    {
      "cell_type": "code",
      "execution_count": null,
      "metadata": {
        "colab": {
          "base_uri": "https://localhost:8080/"
        },
        "id": "UP6kBbv1IfTj",
        "outputId": "c24a8bf4-9403-4426-f356-33364823c09b"
      },
      "outputs": [
        {
          "name": "stdout",
          "output_type": "stream",
          "text": [
            "30\n"
          ]
        }
      ],
      "source": [
        "def add_num(num1,num2):\n",
        "  return num1+num2\n",
        "result=add_num(10,20)\n",
        "print(result)"
      ]
    },
    {
      "cell_type": "code",
      "execution_count": null,
      "metadata": {
        "colab": {
          "base_uri": "https://localhost:8080/"
        },
        "id": "JAa6jUUPJYVO",
        "outputId": "91438419-9cee-4d79-996d-a5d90a8acbf4"
      },
      "outputs": [
        {
          "data": {
            "text/plain": [
              "True"
            ]
          },
          "execution_count": 7,
          "metadata": {},
          "output_type": "execute_result"
        }
      ],
      "source": [
        "def even_check(number):\n",
        "  return number%2==0\n",
        "even_check(20)"
      ]
    },
    {
      "cell_type": "code",
      "execution_count": null,
      "metadata": {
        "id": "rJKw8hyvKlmG"
      },
      "outputs": [],
      "source": [
        "def check_even_list(num_list):\n",
        "  for num in  num_list:\n",
        "    if num%2 ==0:\n",
        "      return True\n",
        "    else:\n",
        "      pass"
      ]
    },
    {
      "cell_type": "code",
      "execution_count": null,
      "metadata": {
        "id": "xD5UE96vK8cf"
      },
      "outputs": [],
      "source": [
        "check_even_list([1,3,5,7])"
      ]
    },
    {
      "cell_type": "code",
      "execution_count": null,
      "metadata": {
        "colab": {
          "base_uri": "https://localhost:8080/"
        },
        "id": "k_ZnsUrwLBsj",
        "outputId": "f3c422a4-1f32-4d30-e348-f64eec5e3f80"
      },
      "outputs": [
        {
          "data": {
            "text/plain": [
              "True"
            ]
          },
          "execution_count": 10,
          "metadata": {},
          "output_type": "execute_result"
        }
      ],
      "source": [
        "check_even_list([1,3,5,2])"
      ]
    },
    {
      "cell_type": "code",
      "execution_count": null,
      "metadata": {
        "id": "3SxwGpI_LXIP"
      },
      "outputs": [],
      "source": [
        "def check_even_list(num_list):\n",
        "  even_list=[]\n",
        "  for num in  num_list:\n",
        "    if num%2 ==0:\n",
        "     even_list.append(num)\n",
        "    else:\n",
        "      pass\n",
        "  return even_list\n",
        "  "
      ]
    },
    {
      "cell_type": "code",
      "execution_count": null,
      "metadata": {
        "colab": {
          "base_uri": "https://localhost:8080/"
        },
        "id": "ferzbdJcLyuX",
        "outputId": "fccd32e7-7598-4535-ba2a-99e7a8f0d632"
      },
      "outputs": [
        {
          "data": {
            "text/plain": [
              "[2, 4, 6, 8]"
            ]
          },
          "execution_count": 27,
          "metadata": {},
          "output_type": "execute_result"
        }
      ],
      "source": [
        "check_even_list([2,3,4,5,6,7,8,9])"
      ]
    },
    {
      "cell_type": "code",
      "execution_count": null,
      "metadata": {
        "id": "G6oFyI3mNR3j"
      },
      "outputs": [],
      "source": [
        "work_hours=[('Abby',100),('Billy',400),('Cassie',800)]"
      ]
    },
    {
      "cell_type": "code",
      "execution_count": null,
      "metadata": {
        "id": "VddQvp68N2GR"
      },
      "outputs": [],
      "source": [
        "def employee_check(work_hourse):\n",
        "  current_max=0\n",
        "  employee_of_month=''\n",
        "  for employee, hours in work_hours:\n",
        "    if hours>current_max:\n",
        "      current_max=hours\n",
        "      employee_of_month=employee\n",
        "    else:\n",
        "      pass\n",
        "  return (employee_of_month, current_max)"
      ]
    },
    {
      "cell_type": "code",
      "execution_count": null,
      "metadata": {
        "colab": {
          "base_uri": "https://localhost:8080/"
        },
        "id": "5e2IhfY1O1n9",
        "outputId": "19bf045f-dbb0-455a-afe3-ecfcf60b2159"
      },
      "outputs": [
        {
          "data": {
            "text/plain": [
              "('Cassie', 800)"
            ]
          },
          "execution_count": 31,
          "metadata": {},
          "output_type": "execute_result"
        }
      ],
      "source": [
        "employee_check(work_hours)"
      ]
    },
    {
      "cell_type": "code",
      "execution_count": null,
      "metadata": {
        "id": "O2EIl0lQA-zj"
      },
      "outputs": [],
      "source": [
        "def myfunc(*ar):\n",
        "  print(ar)"
      ]
    },
    {
      "cell_type": "code",
      "execution_count": null,
      "metadata": {
        "colab": {
          "base_uri": "https://localhost:8080/"
        },
        "id": "c8IHw2xa0BIf",
        "outputId": "d0c8b407-0adf-43d7-bf40-9679de147c8d"
      },
      "outputs": [
        {
          "name": "stdout",
          "output_type": "stream",
          "text": [
            "(4, 5, 6)\n"
          ]
        }
      ],
      "source": [
        "myfunc(4,5,6)"
      ]
    },
    {
      "cell_type": "code",
      "execution_count": null,
      "metadata": {
        "colab": {
          "base_uri": "https://localhost:8080/"
        },
        "id": "liIXGlR93BJF",
        "outputId": "2cd96258-3461-49b5-ca58-6cc766706257"
      },
      "outputs": [
        {
          "name": "stdout",
          "output_type": "stream",
          "text": [
            "{'fruit': 'apple'}\n",
            "My fruit choice is apple\n"
          ]
        }
      ],
      "source": [
        "def myfunc(**kwargs):\n",
        "  print(kwargs)\n",
        "  if 'fruit' in kwargs:\n",
        "    print('My fruit choice is {}'. format(kwargs['fruit']))\n",
        "  else:\n",
        "      print('no fruit')\n",
        "myfunc(fruit='apple')"
      ]
    },
    {
      "cell_type": "code",
      "execution_count": null,
      "metadata": {
        "colab": {
          "base_uri": "https://localhost:8080/"
        },
        "id": "MgOECtvi4KfL",
        "outputId": "477996de-bdee-47cf-a936-f0b7a1cbcd5d"
      },
      "outputs": [
        {
          "name": "stdout",
          "output_type": "stream",
          "text": [
            "(10, 20, 30)\n",
            "{'fruit': 'orange', 'food': 'eggs', 'animal': 'dog'}\n",
            "i would like to eat 10 eggs\n"
          ]
        }
      ],
      "source": [
        "def myfunc(*args,**kwargs):\n",
        "  print(args)\n",
        "  print(kwargs)\n",
        "  print('i would like to eat {} {}'.format(args[0],kwargs['food']))\n",
        "myfunc(10,20,30,fruit='orange', food='eggs', animal='dog')"
      ]
    },
    {
      "cell_type": "code",
      "execution_count": null,
      "metadata": {
        "id": "Zsjj7VRtr1pM"
      },
      "outputs": [],
      "source": [
        "#lanbda expressions, map, amd filters\n",
        "#map function\n",
        "def square(num):\n",
        "  return num**2\n",
        "my_num=[1,2,3,4,5]"
      ]
    },
    {
      "cell_type": "code",
      "execution_count": null,
      "metadata": {
        "colab": {
          "base_uri": "https://localhost:8080/"
        },
        "id": "ioUr74fzslMB",
        "outputId": "52453fc2-62a3-40dd-938e-0a5673e6476d"
      },
      "outputs": [
        {
          "name": "stdout",
          "output_type": "stream",
          "text": [
            "1\n",
            "4\n",
            "9\n",
            "16\n",
            "25\n"
          ]
        }
      ],
      "source": [
        "for item in map(square,my_num):\n",
        "  print(item)"
      ]
    },
    {
      "cell_type": "code",
      "execution_count": null,
      "metadata": {
        "colab": {
          "base_uri": "https://localhost:8080/"
        },
        "id": "wbBiQ43Ws1rO",
        "outputId": "e5974159-1d3a-495b-cb97-7fefbedb8d66"
      },
      "outputs": [
        {
          "data": {
            "text/plain": [
              "[1, 4, 9, 16, 25]"
            ]
          },
          "execution_count": 4,
          "metadata": {},
          "output_type": "execute_result"
        }
      ],
      "source": [
        "list(map(square,my_num))"
      ]
    },
    {
      "cell_type": "code",
      "execution_count": null,
      "metadata": {
        "colab": {
          "base_uri": "https://localhost:8080/"
        },
        "id": "qO6kv_NrtXnH",
        "outputId": "f4c26091-1f4c-4c8c-f4b5-6e71456ed4f9"
      },
      "outputs": [
        {
          "data": {
            "text/plain": [
              "25"
            ]
          },
          "execution_count": 2,
          "metadata": {},
          "output_type": "execute_result"
        }
      ],
      "source": [
        "#lambda functions\n",
        "square=lambda num: num**2\n",
        "square(5)"
      ]
    },
    {
      "cell_type": "code",
      "execution_count": null,
      "metadata": {
        "id": "WAKR_5Vv-eHT"
      },
      "outputs": [],
      "source": [
        "#Scope follows:\n",
        " #L: local\n",
        " #e: enclosing function locals\n",
        " #g: global\n",
        " #b: built-in(python)"
      ]
    },
    {
      "cell_type": "code",
      "execution_count": null,
      "metadata": {
        "id": "HEX6hmzsiZ8X"
      },
      "outputs": [],
      "source": [
        "#milestone project\n",
        "def display(row1,row2,row3):\n",
        "  print(row1)\n",
        "  print(row2)\n",
        "  print(row3)"
      ]
    },
    {
      "cell_type": "code",
      "execution_count": null,
      "metadata": {
        "colab": {
          "base_uri": "https://localhost:8080/"
        },
        "id": "OvCwuxh5jYGo",
        "outputId": "455c64b9-8d40-4725-8e96-35f34033dd44"
      },
      "outputs": [
        {
          "name": "stdout",
          "output_type": "stream",
          "text": [
            "[' ', ' ', ' ']\n",
            "[' ', ' ', ' ']\n",
            "[' ', ' ', ' ']\n"
          ]
        }
      ],
      "source": [
        "row1=[' ',' ',' ']\n",
        "row2=[' ',' ',' ']\n",
        "row3=[' ',' ',' ']\n",
        "display(row1,row2,row3)"
      ]
    },
    {
      "cell_type": "code",
      "execution_count": null,
      "metadata": {
        "colab": {
          "base_uri": "https://localhost:8080/"
        },
        "id": "fu238Hl3tJHZ",
        "outputId": "4ac22d12-64aa-4e66-c0e5-3ac1a0074a32"
      },
      "outputs": [
        {
          "name": "stdout",
          "output_type": "stream",
          "text": [
            "Choose an index position: 2\n"
          ]
        }
      ],
      "source": [
        "position_index= int(input(\"Choose an index position: \"))"
      ]
    },
    {
      "cell_type": "code",
      "execution_count": null,
      "metadata": {
        "colab": {
          "base_uri": "https://localhost:8080/"
        },
        "id": "pKt2dCfkx3G8",
        "outputId": "4b2107b0-90f3-4863-d0b1-5cddb591a2eb"
      },
      "outputs": [
        {
          "name": "stdout",
          "output_type": "stream",
          "text": [
            "Please enter a number (0-10): 2\n"
          ]
        },
        {
          "data": {
            "text/plain": [
              "2"
            ]
          },
          "execution_count": 11,
          "metadata": {},
          "output_type": "execute_result"
        }
      ],
      "source": [
        "def user_choice():\n",
        "  choice=\"WRONG\"\n",
        "  while choice.isdigit() ==False:\n",
        "    choice=input(\"Please enter a number (0-10): \" )\n",
        "    if choice.isdigit()==False:\n",
        "      print(\"Sorry that is not a digit!\")\n",
        "  return int(choice)\n",
        "user_choice()"
      ]
    },
    {
      "cell_type": "code",
      "execution_count": null,
      "metadata": {
        "id": "G4nU2jD73Kp_"
      },
      "outputs": [],
      "source": [
        "def user_choice():\n",
        "  #variables\n",
        "\n",
        "  #initial\n",
        "  choice=\"WRONG\"\n",
        "  acceptable_range = range(0,10)\n",
        "  within_range= False\n",
        "  while choice.isdigit() ==False or within_range==False:\n",
        "    choice=input(\"Please enter a number (0-10): \" )\n",
        "    #digit check\n",
        "    if choice.isdigit()==False:\n",
        "      print(\"Sorry that is not a digit!\")\n",
        "    #range check\n",
        "    if choice.isdigit() ==True:\n",
        "      if int(choice) in acceptable_range:\n",
        "        within_range =True\n",
        "      else:\n",
        "        within_range=False\n",
        "        print(\"The digit entered is not in the given range\")\n",
        "  \n",
        "  return int(choice)\n",
        "user_choice()"
      ]
    },
    {
      "cell_type": "code",
      "execution_count": null,
      "metadata": {
        "id": "3ZWKbvul9hFv"
      },
      "outputs": [],
      "source": [
        "game_list=[0,1,2]"
      ]
    },
    {
      "cell_type": "code",
      "execution_count": null,
      "metadata": {
        "id": "PYClfzP-9mF_"
      },
      "outputs": [],
      "source": [
        "def display_game(game_list):\n",
        "  print('Here is the current list: ')\n",
        "  print(game_list)"
      ]
    },
    {
      "cell_type": "code",
      "execution_count": null,
      "metadata": {
        "id": "OyIF-DuJ-7oW"
      },
      "outputs": [],
      "source": [
        "def position_choice():\n",
        "  choice='wrong'\n",
        "  while choice not in ['0','1','2']:\n",
        "    choice=input(\"Pickup aposition (0,1,2): \")\n",
        "    if choice not in ['0','1','2']:\n",
        "      print('Sorry, invalid choice!')\n",
        "  return int(choice)"
      ]
    },
    {
      "cell_type": "code",
      "execution_count": null,
      "metadata": {
        "id": "vDX15IFI_o50"
      },
      "outputs": [],
      "source": [
        "def replacement_choice(game_list, position):\n",
        "  user_placement=input(\"Type a string at a position: \")\n",
        "  game_list[position] =user_placement\n",
        "  return game_list"
      ]
    },
    {
      "cell_type": "code",
      "execution_count": null,
      "metadata": {
        "id": "yBJb7T5OAWD6"
      },
      "outputs": [],
      "source": [
        "def gameon_choice():\n",
        "  choice='wrong'\n",
        "  while choice not in ['Y','N']:\n",
        "    choice=input(\"Keep playing? (Y or N) \")\n",
        "    if choice not in ['Y','N']:\n",
        "      print('Sorry, i dont understand, please choose (Y or N): ')\n",
        "  if choice==\"Y\":\n",
        "      return True\n",
        "  else:\n",
        "      return False"
      ]
    },
    {
      "cell_type": "code",
      "execution_count": null,
      "metadata": {
        "colab": {
          "base_uri": "https://localhost:8080/"
        },
        "id": "rAY_K2avExkt",
        "outputId": "8a3f4321-3693-4537-a643-ec0b460dba78"
      },
      "outputs": [
        {
          "name": "stdout",
          "output_type": "stream",
          "text": [
            "Here is the current list: \n",
            "[0, 1, 2]\n",
            "Pickup aposition (0,1,2): two\n",
            "Sorry, invalid choice!\n",
            "Pickup aposition (0,1,2): 1\n",
            "Type a string at a position: my choice\\\n",
            "Here is the current list: \n",
            "[0, 'my choice\\\\', 2]\n",
            "Keep playing? (Y or N) y\n",
            "Sorry, i dont understand, please choose (Y or N): \n",
            "Keep playing? (Y or N) Y\n",
            "Here is the current list: \n",
            "[0, 'my choice\\\\', 2]\n",
            "Pickup aposition (0,1,2): 0\n",
            "Type a string at a position: test\n",
            "Here is the current list: \n",
            "['test', 'my choice\\\\', 2]\n",
            "Keep playing? (Y or N) Y\n",
            "Here is the current list: \n",
            "['test', 'my choice\\\\', 2]\n",
            "Pickup aposition (0,1,2): 2\n",
            "Type a string at a position: hello\n",
            "Here is the current list: \n",
            "['test', 'my choice\\\\', 'hello']\n",
            "Keep playing? (Y or N) N\n"
          ]
        }
      ],
      "source": [
        "game_on =True\n",
        "game_list =[0,1,2]\n",
        "while game_on:\n",
        "  display_game(game_list)\n",
        "  position=position_choice()\n",
        "  game_list=replacement_choice(game_list,position)\n",
        "  display_game(game_list)\n",
        "  game_on=gameon_choice()"
      ]
    },
    {
      "cell_type": "code",
      "execution_count": null,
      "metadata": {
        "id": "gkY09trdVdGh"
      },
      "outputs": [],
      "source": [
        "# M.P.1\n",
        "from IPython.display import clear_output\n",
        "def display_board(board):\n",
        "  clear_output()\n",
        "  print('   |   |')\n",
        "  print(' '+board[7]+' | '+board[8]+' | '+board[9])\n",
        "  print('   |   |')\n",
        "  print('-----------')\n",
        "  print('   |   |')\n",
        "  print(' '+board[4]+' | '+board[5]+' | '+board[6])\n",
        "  print('   |   |')\n",
        "  print('-----------')\n",
        "  print('   |   |')\n",
        "  print(' '+board[1]+' | '+board[2]+' | '+board[3])\n",
        "  print('   |   |')"
      ]
    },
    {
      "cell_type": "code",
      "execution_count": null,
      "metadata": {
        "id": "IDDH_klUanoc"
      },
      "outputs": [],
      "source": [
        "def player_input():\n",
        "  marker=''\n",
        "  while not(marker == 'X' or marker=='O'):\n",
        "    marker=input('Player 1: Do you want it to be X or O?').upper()\n",
        "  if marker=='X':\n",
        "    return ('X','O')\n",
        "  else:\n",
        "    return ('O','X')"
      ]
    },
    {
      "cell_type": "code",
      "execution_count": null,
      "metadata": {
        "id": "3AJGFnOvoo06"
      },
      "outputs": [],
      "source": [
        "def place_maker(board,marker,position):\n",
        "  board[position]=marker\n"
      ]
    },
    {
      "cell_type": "code",
      "source": [
        "test_board=['#','O','X','O','X','O','X','O','X','O']\n",
        "place_maker(test_board,'$',8)\n",
        "display_board(test_board)"
      ],
      "metadata": {
        "colab": {
          "base_uri": "https://localhost:8080/"
        },
        "id": "GsA5lYzvXtcB",
        "outputId": "7b0350f9-2da2-4dd1-8f01-a1a54db17e52"
      },
      "execution_count": null,
      "outputs": [
        {
          "output_type": "stream",
          "name": "stdout",
          "text": [
            "   |   |\n",
            " O | $ | O\n",
            "   |   |\n",
            "-----------\n",
            "   |   |\n",
            " X | O | X\n",
            "   |   |\n",
            "-----------\n",
            "   |   |\n",
            " O | X | O\n",
            "   |   |\n"
          ]
        }
      ]
    },
    {
      "cell_type": "code",
      "execution_count": null,
      "metadata": {
        "id": "JPmbHAExpHiN"
      },
      "outputs": [],
      "source": [
        "def winner_check(board,marker):\n",
        "  return((board[9]==marker and board[8]==marker and board[7]==marker) or\n",
        "         (board[6]==marker and board[5]==marker and board[4]==marker) or\n",
        "         (board[3]==marker and board[2]==marker and board[1]==marker) or\n",
        "         (board[7]==marker and board[4]==marker and board[1]==marker) or\n",
        "         (board[8]==marker and board[5]==marker and board[2]==marker) or\n",
        "         (board[9]==marker and board[6]==marker and board[3]==marker) or\n",
        "         (board[1]==marker and board[5]==marker and board[9]==marker) or\n",
        "         (board[7]==marker and board[5]==marker and board[3]==marker))"
      ]
    },
    {
      "cell_type": "code",
      "source": [
        "winner_check(test_board,'O')"
      ],
      "metadata": {
        "colab": {
          "base_uri": "https://localhost:8080/"
        },
        "id": "9XCz73NPZJ9x",
        "outputId": "a867923d-5dc0-4ae3-c9af-180a0fe9e963"
      },
      "execution_count": null,
      "outputs": [
        {
          "output_type": "execute_result",
          "data": {
            "text/plain": [
              "True"
            ]
          },
          "metadata": {},
          "execution_count": 25
        }
      ]
    },
    {
      "cell_type": "code",
      "execution_count": null,
      "metadata": {
        "id": "TfOfh4YbqfGP"
      },
      "outputs": [],
      "source": [
        "import random\n",
        "def start_player():\n",
        "  if random.randint(0,1)=='0':\n",
        "    return 'player2'\n",
        "  else:\n",
        "    return 'player1'\n",
        "    "
      ]
    },
    {
      "cell_type": "code",
      "execution_count": null,
      "metadata": {
        "id": "71cU0M9Xq7JH"
      },
      "outputs": [],
      "source": [
        "def space_check(board,position):\n",
        "  return board[position]==' '"
      ]
    },
    {
      "cell_type": "code",
      "execution_count": null,
      "metadata": {
        "id": "Aba-tsQqrRjL"
      },
      "outputs": [],
      "source": [
        "def full_check(board):\n",
        "  return not(' ' in board)"
      ]
    },
    {
      "cell_type": "code",
      "execution_count": null,
      "metadata": {
        "id": "Eg99ieJFsKAp"
      },
      "outputs": [],
      "source": [
        "def next_position(board):\n",
        "  position=0\n",
        "  while (position not in [1,2,3,4,5,6,7,8,9] or space_check(board,position)):\n",
        "    position = int(input(turn+'Choose your next position(1-9): '))\n",
        "    break\n",
        "  return position\n"
      ]
    },
    {
      "cell_type": "code",
      "execution_count": null,
      "metadata": {
        "id": "vU4yUawctHCk"
      },
      "outputs": [],
      "source": [
        "def replay():\n",
        "  return input('Do you want to play again? Enter Yes or No: ')"
      ]
    },
    {
      "cell_type": "code",
      "execution_count": null,
      "metadata": {
        "colab": {
          "base_uri": "https://localhost:8080/",
          "height": 426
        },
        "id": "qTH4XE6_to4F",
        "outputId": "9018b1cc-7fcc-4cba-b508-adbba0c09471"
      },
      "outputs": [
        {
          "output_type": "stream",
          "name": "stdout",
          "text": [
            "   |   |\n",
            "   |   |  \n",
            "   |   |\n",
            "-----------\n",
            "   |   |\n",
            "   |   |  \n",
            "   |   |\n",
            "-----------\n",
            "   |   |\n",
            "   |   |  \n",
            "   |   |\n"
          ]
        },
        {
          "output_type": "error",
          "ename": "TypeError",
          "evalue": "ignored",
          "traceback": [
            "\u001b[0;31m---------------------------------------------------------------------------\u001b[0m",
            "\u001b[0;31mTypeError\u001b[0m                                 Traceback (most recent call last)",
            "\u001b[0;32m<ipython-input-32-f2b5b2e3f697>\u001b[0m in \u001b[0;36m<module>\u001b[0;34m()\u001b[0m\n\u001b[1;32m     18\u001b[0m     \u001b[0;32mif\u001b[0m \u001b[0mturn\u001b[0m\u001b[0;34m==\u001b[0m\u001b[0;34m'player1'\u001b[0m\u001b[0;34m:\u001b[0m\u001b[0;34m\u001b[0m\u001b[0;34m\u001b[0m\u001b[0m\n\u001b[1;32m     19\u001b[0m       \u001b[0mdisplay_board\u001b[0m\u001b[0;34m(\u001b[0m\u001b[0mtheBoard\u001b[0m\u001b[0;34m)\u001b[0m\u001b[0;34m\u001b[0m\u001b[0;34m\u001b[0m\u001b[0m\n\u001b[0;32m---> 20\u001b[0;31m       \u001b[0mposition\u001b[0m\u001b[0;34m=\u001b[0m\u001b[0mnext_position\u001b[0m\u001b[0;34m(\u001b[0m\u001b[0mtheBoard\u001b[0m\u001b[0;34m)\u001b[0m\u001b[0;34m\u001b[0m\u001b[0;34m\u001b[0m\u001b[0m\n\u001b[0m\u001b[1;32m     21\u001b[0m       \u001b[0mplace_maker\u001b[0m\u001b[0;34m(\u001b[0m\u001b[0mtheBoard\u001b[0m\u001b[0;34m,\u001b[0m\u001b[0mplayer1_marker\u001b[0m\u001b[0;34m,\u001b[0m\u001b[0mposition\u001b[0m\u001b[0;34m)\u001b[0m\u001b[0;34m\u001b[0m\u001b[0;34m\u001b[0m\u001b[0m\n\u001b[1;32m     22\u001b[0m       \u001b[0;32mif\u001b[0m \u001b[0mwinner_check\u001b[0m\u001b[0;34m(\u001b[0m\u001b[0mtheBoard\u001b[0m\u001b[0;34m,\u001b[0m \u001b[0mplayer1_marker\u001b[0m\u001b[0;34m)\u001b[0m\u001b[0;34m:\u001b[0m\u001b[0;34m\u001b[0m\u001b[0;34m\u001b[0m\u001b[0m\n",
            "\u001b[0;31mTypeError\u001b[0m: next_position() missing 1 required positional argument: 'turn'"
          ]
        }
      ],
      "source": [
        "#simulator code\n",
        "print('Welcome to TIC-TAC-TOE !!')\n",
        "while True:\n",
        "  #clearing the board each time\n",
        "  theBoard=[' ']*10\n",
        "  game_on=True\n",
        "  player1_marker,player2_marker=player_input()\n",
        "  turn=start_player()\n",
        "  print(turn+', Will go first.')\n",
        "  play_game=input('Are you ready to play? Y or N: ')\n",
        "  if play_game.lower()=='y':\n",
        "    game_on= True\n",
        "  else:\n",
        "    game_on= False\n",
        "  while game_on:\n",
        "    print('The initial board was set as follows: ')\n",
        "    #chance of player1\n",
        "    if turn=='player1':\n",
        "      display_board(theBoard)\n",
        "      position=next_position(theBoard)\n",
        "      place_maker(theBoard,player1_marker,position)\n",
        "      if winner_check(theBoard, player1_marker):\n",
        "        display_board(theBoard)\n",
        "        print('Congratulations, Player 1, has won the game')\n",
        "        game_on=False\n",
        "      else:\n",
        "        if full_check(theBoard):\n",
        "          print('Hey its a Draw match! ')\n",
        "          game_on=False\n",
        "        else:\n",
        "          turn='player2'\n",
        "    #chance of player2\n",
        "    else:\n",
        "      display_board(theBoard)\n",
        "      position=next_position(theBoard)\n",
        "      place_maker(theBoard,player2_marker,position)\n",
        "      if winner_check(theBoard, player1_marker):\n",
        "        display_board(theBoard)\n",
        "        print('Congratulations, Player 2, has won the game')\n",
        "        game_on=False\n",
        "      else:\n",
        "         if full_check(theBoard):\n",
        "          print('Hey its a Draw match! ')\n",
        "          game_on=False\n",
        "         else:\n",
        "          turn='player1'\n",
        "  if not replay():\n",
        "    break"
      ]
    },
    {
      "cell_type": "code",
      "source": [
        "#OOPS"
      ],
      "metadata": {
        "id": "DfyvgqWRJtzR"
      },
      "execution_count": null,
      "outputs": []
    },
    {
      "cell_type": "code",
      "source": [
        "class Dog():\n",
        "   def __init__(self,my_breed):\n",
        "     self.breed=my_breed\n"
      ],
      "metadata": {
        "id": "6lsvgAivJztP"
      },
      "execution_count": null,
      "outputs": []
    },
    {
      "cell_type": "code",
      "source": [
        "my_dog= Dog(my_breed='Lab')"
      ],
      "metadata": {
        "id": "wZZSz6GRK_E7"
      },
      "execution_count": null,
      "outputs": []
    },
    {
      "cell_type": "code",
      "source": [
        "my_dog.breed"
      ],
      "metadata": {
        "colab": {
          "base_uri": "https://localhost:8080/",
          "height": 35
        },
        "id": "N186LwQtLH_j",
        "outputId": "fc3d698a-6bb1-4581-b5db-2cf9a12b6363"
      },
      "execution_count": null,
      "outputs": [
        {
          "output_type": "execute_result",
          "data": {
            "text/plain": [
              "'Lab'"
            ],
            "application/vnd.google.colaboratory.intrinsic+json": {
              "type": "string"
            }
          },
          "metadata": {},
          "execution_count": 11
        }
      ]
    },
    {
      "cell_type": "code",
      "source": [
        "class Dog():\n",
        "   species='Mammals'\n",
        "   def __init__(self,breed, name, spots):\n",
        "     self.breed=breed\n",
        "     self.name=name\n",
        "     self.spots=spots\n",
        "   def bark(self):\n",
        "     print('woof! my name is {}'.format(self.name))\n"
      ],
      "metadata": {
        "id": "O9XMpr5pMBQS"
      },
      "execution_count": null,
      "outputs": []
    },
    {
      "cell_type": "code",
      "source": [
        "my_dog=Dog(breed='lab', name='sammy', spots=False)"
      ],
      "metadata": {
        "id": "8rfs4yPaMVri"
      },
      "execution_count": null,
      "outputs": []
    },
    {
      "cell_type": "code",
      "source": [
        "my_dog.breed\n",
        "\n"
      ],
      "metadata": {
        "colab": {
          "base_uri": "https://localhost:8080/",
          "height": 35
        },
        "id": "H_3uqMqtMh5V",
        "outputId": "9aba60a5-3de2-4f6d-8252-2b4f30244a7f"
      },
      "execution_count": null,
      "outputs": [
        {
          "output_type": "execute_result",
          "data": {
            "text/plain": [
              "'lab'"
            ],
            "application/vnd.google.colaboratory.intrinsic+json": {
              "type": "string"
            }
          },
          "metadata": {},
          "execution_count": 29
        }
      ]
    },
    {
      "cell_type": "code",
      "source": [
        "my_dog.name"
      ],
      "metadata": {
        "colab": {
          "base_uri": "https://localhost:8080/",
          "height": 35
        },
        "id": "dmd6GGs5O0-Z",
        "outputId": "19343337-3800-43c2-e0ca-f08eeba47a1b"
      },
      "execution_count": null,
      "outputs": [
        {
          "output_type": "execute_result",
          "data": {
            "text/plain": [
              "'sammy'"
            ],
            "application/vnd.google.colaboratory.intrinsic+json": {
              "type": "string"
            }
          },
          "metadata": {},
          "execution_count": 19
        }
      ]
    },
    {
      "cell_type": "code",
      "source": [
        "my_dog.spots"
      ],
      "metadata": {
        "colab": {
          "base_uri": "https://localhost:8080/"
        },
        "id": "qWtRc76qO224",
        "outputId": "33e83feb-f112-4101-9821-9de67fce3616"
      },
      "execution_count": null,
      "outputs": [
        {
          "output_type": "execute_result",
          "data": {
            "text/plain": [
              "False"
            ]
          },
          "metadata": {},
          "execution_count": 20
        }
      ]
    },
    {
      "cell_type": "code",
      "source": [
        "my_dog.species"
      ],
      "metadata": {
        "colab": {
          "base_uri": "https://localhost:8080/",
          "height": 166
        },
        "id": "sR1Zlpa-O6yg",
        "outputId": "58af041d-4af6-4fb0-f382-478105abf7fc"
      },
      "execution_count": null,
      "outputs": [
        {
          "output_type": "error",
          "ename": "AttributeError",
          "evalue": "ignored",
          "traceback": [
            "\u001b[0;31m---------------------------------------------------------------------------\u001b[0m",
            "\u001b[0;31mAttributeError\u001b[0m                            Traceback (most recent call last)",
            "\u001b[0;32m<ipython-input-24-22731742fdc8>\u001b[0m in \u001b[0;36m<module>\u001b[0;34m()\u001b[0m\n\u001b[0;32m----> 1\u001b[0;31m \u001b[0mmy_dog\u001b[0m\u001b[0;34m.\u001b[0m\u001b[0mspecies\u001b[0m\u001b[0;34m\u001b[0m\u001b[0;34m\u001b[0m\u001b[0m\n\u001b[0m",
            "\u001b[0;31mAttributeError\u001b[0m: 'Dog' object has no attribute 'species'"
          ]
        }
      ]
    },
    {
      "cell_type": "code",
      "source": [
        "my_dog.bark()"
      ],
      "metadata": {
        "colab": {
          "base_uri": "https://localhost:8080/",
          "height": 166
        },
        "id": "UuXAUYYbPg4J",
        "outputId": "d72bb3d2-0425-4274-90b6-2e51d928e29e"
      },
      "execution_count": null,
      "outputs": [
        {
          "output_type": "error",
          "ename": "AttributeError",
          "evalue": "ignored",
          "traceback": [
            "\u001b[0;31m---------------------------------------------------------------------------\u001b[0m",
            "\u001b[0;31mAttributeError\u001b[0m                            Traceback (most recent call last)",
            "\u001b[0;32m<ipython-input-28-280d54abc289>\u001b[0m in \u001b[0;36m<module>\u001b[0;34m()\u001b[0m\n\u001b[0;32m----> 1\u001b[0;31m \u001b[0mmy_dog\u001b[0m\u001b[0;34m.\u001b[0m\u001b[0mbark\u001b[0m\u001b[0;34m(\u001b[0m\u001b[0;34m)\u001b[0m\u001b[0;34m\u001b[0m\u001b[0;34m\u001b[0m\u001b[0m\n\u001b[0m",
            "\u001b[0;31mAttributeError\u001b[0m: 'Dog' object has no attribute 'bark'"
          ]
        }
      ]
    },
    {
      "cell_type": "code",
      "source": [
        "class Circle():\n",
        "  #class object attribute\n",
        "  pi=3.14\n",
        "  def __init__(self, radius=1):\n",
        "    self.radius=radius\n",
        "  #method\n",
        "  def get_circumference(self):\n",
        "    return self.radius*self.pi*2\n"
      ],
      "metadata": {
        "id": "_s_oKPvoRtVS"
      },
      "execution_count": null,
      "outputs": []
    },
    {
      "cell_type": "code",
      "source": [
        "my_circle=Circle()"
      ],
      "metadata": {
        "id": "8Ry3sEYTRvY4"
      },
      "execution_count": null,
      "outputs": []
    },
    {
      "cell_type": "code",
      "source": [
        "my_circle.pi"
      ],
      "metadata": {
        "colab": {
          "base_uri": "https://localhost:8080/"
        },
        "id": "YLeELhJTSSf6",
        "outputId": "51b94c1f-85ba-4b89-9e22-01ce15a3c4ff"
      },
      "execution_count": null,
      "outputs": [
        {
          "output_type": "execute_result",
          "data": {
            "text/plain": [
              "3.14"
            ]
          },
          "metadata": {},
          "execution_count": 33
        }
      ]
    },
    {
      "cell_type": "code",
      "source": [
        ""
      ],
      "metadata": {
        "id": "dC8tDLiGSy6Z"
      },
      "execution_count": null,
      "outputs": []
    },
    {
      "cell_type": "code",
      "source": [
        "my_circle.radius"
      ],
      "metadata": {
        "colab": {
          "base_uri": "https://localhost:8080/"
        },
        "id": "eAa4a_sOSYOB",
        "outputId": "4b7cf9bb-4c14-491d-9f1a-30e549ee03a7"
      },
      "execution_count": null,
      "outputs": [
        {
          "output_type": "execute_result",
          "data": {
            "text/plain": [
              "1"
            ]
          },
          "metadata": {},
          "execution_count": 34
        }
      ]
    },
    {
      "cell_type": "code",
      "source": [
        "my_circle.get_circumference()"
      ],
      "metadata": {
        "colab": {
          "base_uri": "https://localhost:8080/"
        },
        "id": "e31uFQYCSgie",
        "outputId": "939e364a-09c8-4efd-d6c2-6bf29542ff2c"
      },
      "execution_count": null,
      "outputs": [
        {
          "output_type": "execute_result",
          "data": {
            "text/plain": [
              "6.28"
            ]
          },
          "metadata": {},
          "execution_count": 36
        }
      ]
    },
    {
      "cell_type": "code",
      "source": [
        "#inheritance, polymorphism\n",
        "class Animal():\n",
        "  def __init__(self):\n",
        "    print('animal created')\n",
        "  def who_am_i(self):\n",
        "    print('i am an animal')\n",
        "  def eat(self):\n",
        "    print('i am eating')"
      ],
      "metadata": {
        "id": "45o_LBD0TJB_"
      },
      "execution_count": null,
      "outputs": []
    },
    {
      "cell_type": "code",
      "source": [
        "myanimal=Animal()"
      ],
      "metadata": {
        "colab": {
          "base_uri": "https://localhost:8080/"
        },
        "id": "nauDJk0MT07g",
        "outputId": "dd46376b-5302-4812-d0b5-c138b97b7652"
      },
      "execution_count": null,
      "outputs": [
        {
          "output_type": "stream",
          "name": "stdout",
          "text": [
            "animal created\n"
          ]
        }
      ]
    },
    {
      "cell_type": "code",
      "source": [
        "myanimal.eat()"
      ],
      "metadata": {
        "colab": {
          "base_uri": "https://localhost:8080/"
        },
        "id": "MSI7S7F_T55C",
        "outputId": "7cc839a4-7d80-442d-e32c-61fe31ac05a6"
      },
      "execution_count": null,
      "outputs": [
        {
          "output_type": "stream",
          "name": "stdout",
          "text": [
            "i am eating\n"
          ]
        }
      ]
    },
    {
      "cell_type": "code",
      "source": [
        "myanimal.who_am_i()"
      ],
      "metadata": {
        "colab": {
          "base_uri": "https://localhost:8080/"
        },
        "id": "C6DMYjv_T8Qa",
        "outputId": "f77a4195-cc88-4dfc-bdd5-88dfe8c7b2fe"
      },
      "execution_count": null,
      "outputs": [
        {
          "output_type": "stream",
          "name": "stdout",
          "text": [
            "i am an animal\n"
          ]
        }
      ]
    },
    {
      "cell_type": "code",
      "source": [
        "class Dog(Animal):\n",
        "  def __init__(self):\n",
        "    Animal.__init__(self)\n",
        "    print('Dog created')\n",
        "    #this function over riden the older function in Animal class \n",
        "  def who_am_i(self):\n",
        "    print('i am a dog')"
      ],
      "metadata": {
        "id": "iiirJzH3U9oQ"
      },
      "execution_count": null,
      "outputs": []
    },
    {
      "cell_type": "code",
      "source": [
        "mydog=Dog()"
      ],
      "metadata": {
        "colab": {
          "base_uri": "https://localhost:8080/"
        },
        "id": "A7pf2JttVQqw",
        "outputId": "5b79ea51-3204-433c-a603-8bfcd1e1577a"
      },
      "execution_count": null,
      "outputs": [
        {
          "output_type": "stream",
          "name": "stdout",
          "text": [
            "animal created\n",
            "Dog created\n"
          ]
        }
      ]
    },
    {
      "cell_type": "code",
      "source": [
        "mydog.who_am_i()"
      ],
      "metadata": {
        "colab": {
          "base_uri": "https://localhost:8080/"
        },
        "id": "ZQC0CZcfVYHX",
        "outputId": "cdfd938c-4e6e-4b71-fe1d-8e554bfc0128"
      },
      "execution_count": null,
      "outputs": [
        {
          "output_type": "stream",
          "name": "stdout",
          "text": [
            "i am a dog\n"
          ]
        }
      ]
    },
    {
      "cell_type": "code",
      "source": [
        " "
      ],
      "metadata": {
        "id": "ez81ilVNSPzK"
      },
      "execution_count": null,
      "outputs": []
    },
    {
      "cell_type": "code",
      "source": [
        ""
      ],
      "metadata": {
        "id": "7CN88YwnUUdz"
      },
      "execution_count": null,
      "outputs": []
    },
    {
      "cell_type": "code",
      "source": [
        "#special methods\n",
        "class Book():\n",
        "  def __init__(self,title,author,pages):\n",
        "    self.title=title\n",
        "    self.author=author\n",
        "    self.pages=pages\n",
        "  def __str__(self): #it returns  __str__ function output in a class\n",
        "    return f\"{self.title} by {self.author}\"\n",
        "  def __len__(self):\n",
        "    return self.pages\n",
        "  def __del__(self):\n",
        "    print(\"A book object has bee deleted\")"
      ],
      "metadata": {
        "id": "RUa9_vlAUUkm"
      },
      "execution_count": null,
      "outputs": []
    },
    {
      "cell_type": "code",
      "source": [
        "b=Book('python rocks','jose',200)"
      ],
      "metadata": {
        "id": "VKwT6RNGKyuc"
      },
      "execution_count": null,
      "outputs": []
    },
    {
      "cell_type": "code",
      "source": [
        "print(b)#it returns  __str__ function output in a class"
      ],
      "metadata": {
        "colab": {
          "base_uri": "https://localhost:8080/"
        },
        "id": "Y_UkegDWLldY",
        "outputId": "db9848c2-3266-4ab3-c28c-dbe9e589932c"
      },
      "execution_count": null,
      "outputs": [
        {
          "output_type": "stream",
          "name": "stdout",
          "text": [
            "python rocks by jose\n"
          ]
        }
      ]
    },
    {
      "cell_type": "code",
      "source": [
        "len(b)"
      ],
      "metadata": {
        "colab": {
          "base_uri": "https://localhost:8080/"
        },
        "id": "wDQdvZwUME3G",
        "outputId": "5f98f62b-3256-4259-ef75-e3e65a92b2ce"
      },
      "execution_count": null,
      "outputs": [
        {
          "output_type": "execute_result",
          "data": {
            "text/plain": [
              "200"
            ]
          },
          "metadata": {},
          "execution_count": 24
        }
      ]
    },
    {
      "cell_type": "code",
      "source": [
        "# for deleting we can use    del(b)"
      ],
      "metadata": {
        "id": "STrgRFfUMX07"
      },
      "execution_count": null,
      "outputs": []
    },
    {
      "cell_type": "code",
      "source": [
        "del(b)"
      ],
      "metadata": {
        "colab": {
          "base_uri": "https://localhost:8080/"
        },
        "id": "i4mCLjZXMedR",
        "outputId": "b05255c5-cb0e-496b-86cc-b77520059023"
      },
      "execution_count": null,
      "outputs": [
        {
          "output_type": "stream",
          "name": "stdout",
          "text": [
            "A book object has bee deleted\n"
          ]
        }
      ]
    },
    {
      "cell_type": "code",
      "source": [
        "print(b)# because the object was deleted was deleted"
      ],
      "metadata": {
        "colab": {
          "base_uri": "https://localhost:8080/",
          "height": 166
        },
        "id": "xt7g5eVmM0md",
        "outputId": "258dbeb8-73d2-4fa4-f8a3-f42a8921217a"
      },
      "execution_count": null,
      "outputs": [
        {
          "output_type": "error",
          "ename": "NameError",
          "evalue": "ignored",
          "traceback": [
            "\u001b[0;31m---------------------------------------------------------------------------\u001b[0m",
            "\u001b[0;31mNameError\u001b[0m                                 Traceback (most recent call last)",
            "\u001b[0;32m<ipython-input-27-67e500defa1b>\u001b[0m in \u001b[0;36m<module>\u001b[0;34m()\u001b[0m\n\u001b[0;32m----> 1\u001b[0;31m \u001b[0mprint\u001b[0m\u001b[0;34m(\u001b[0m\u001b[0mb\u001b[0m\u001b[0;34m)\u001b[0m\u001b[0;34m\u001b[0m\u001b[0;34m\u001b[0m\u001b[0m\n\u001b[0m",
            "\u001b[0;31mNameError\u001b[0m: name 'b' is not defined"
          ]
        }
      ]
    },
    {
      "cell_type": "code",
      "source": [
        "#OOP Challenge\n",
        "class Account():\n",
        "\n",
        "  def __init__(self,owner,balance):\n",
        "    self.owner=owner\n",
        "    self.balance=balance\n",
        "    \n",
        "  def __str__(self):\n",
        "    print('Account owner: Jose\\n')\n",
        "    print('Account balance: ${}'.format(self.balance))\n",
        "  def deposit(self,in_money):\n",
        "    self.balance+=in_money\n",
        "    print('Deposit Accepted')\n",
        "  def withdraw(self,out_money):\n",
        "    if out_money<=self.balance:\n",
        "      self.balance-=out_money\n",
        "      print('Withdrawl Accepted')\n",
        "    else:\n",
        "      print('Funds Unavailable')\n"
      ],
      "metadata": {
        "id": "fm1B80UNNG_1"
      },
      "execution_count": null,
      "outputs": []
    },
    {
      "cell_type": "code",
      "source": [
        "acct1=Account('Jose',100)"
      ],
      "metadata": {
        "id": "s2sjuEjjUUa7"
      },
      "execution_count": null,
      "outputs": []
    },
    {
      "cell_type": "code",
      "source": [
        "print(acct1)"
      ],
      "metadata": {
        "colab": {
          "base_uri": "https://localhost:8080/",
          "height": 218
        },
        "id": "xihQ0SJ6UpZO",
        "outputId": "9971b695-afdc-457a-df5e-4d3ee67a86fe"
      },
      "execution_count": null,
      "outputs": [
        {
          "output_type": "stream",
          "name": "stdout",
          "text": [
            "Account owner: Jose\n",
            "\n",
            "Account balance: $100\n"
          ]
        },
        {
          "output_type": "error",
          "ename": "TypeError",
          "evalue": "ignored",
          "traceback": [
            "\u001b[0;31m---------------------------------------------------------------------------\u001b[0m",
            "\u001b[0;31mTypeError\u001b[0m                                 Traceback (most recent call last)",
            "\u001b[0;32m<ipython-input-41-4612086fddd2>\u001b[0m in \u001b[0;36m<module>\u001b[0;34m()\u001b[0m\n\u001b[0;32m----> 1\u001b[0;31m \u001b[0mprint\u001b[0m\u001b[0;34m(\u001b[0m\u001b[0macct1\u001b[0m\u001b[0;34m)\u001b[0m\u001b[0;34m\u001b[0m\u001b[0;34m\u001b[0m\u001b[0m\n\u001b[0m",
            "\u001b[0;31mTypeError\u001b[0m: __str__ returned non-string (type NoneType)"
          ]
        }
      ]
    },
    {
      "cell_type": "code",
      "source": [
        "acct1.owner"
      ],
      "metadata": {
        "colab": {
          "base_uri": "https://localhost:8080/",
          "height": 35
        },
        "id": "-8biN94IV0CB",
        "outputId": "aa22a423-1b06-4570-a6d4-9c2dfac66633"
      },
      "execution_count": null,
      "outputs": [
        {
          "output_type": "execute_result",
          "data": {
            "text/plain": [
              "'Jose'"
            ],
            "application/vnd.google.colaboratory.intrinsic+json": {
              "type": "string"
            }
          },
          "metadata": {},
          "execution_count": 42
        }
      ]
    },
    {
      "cell_type": "code",
      "source": [
        "acct1.balance"
      ],
      "metadata": {
        "colab": {
          "base_uri": "https://localhost:8080/"
        },
        "id": "JN0Sp9VnV7cN",
        "outputId": "5be0ef0b-2eab-495e-9ec2-48d10dcc1702"
      },
      "execution_count": null,
      "outputs": [
        {
          "output_type": "execute_result",
          "data": {
            "text/plain": [
              "100"
            ]
          },
          "metadata": {},
          "execution_count": 43
        }
      ]
    },
    {
      "cell_type": "code",
      "source": [
        "acct1.deposit(50)"
      ],
      "metadata": {
        "colab": {
          "base_uri": "https://localhost:8080/"
        },
        "id": "BrC6R3NFV_CF",
        "outputId": "293754dd-795d-43b3-be37-6ee8b2188efa"
      },
      "execution_count": null,
      "outputs": [
        {
          "output_type": "stream",
          "name": "stdout",
          "text": [
            "Deposit Accepted\n"
          ]
        }
      ]
    },
    {
      "cell_type": "code",
      "source": [
        "acct1.withdraw(500)"
      ],
      "metadata": {
        "colab": {
          "base_uri": "https://localhost:8080/"
        },
        "id": "eNL7Zpy4WYrC",
        "outputId": "78623647-1f9d-4a00-e407-ba983a13e17f"
      },
      "execution_count": null,
      "outputs": [
        {
          "output_type": "stream",
          "name": "stdout",
          "text": [
            "Funds Unavailable\n"
          ]
        }
      ]
    },
    {
      "cell_type": "code",
      "source": [
        "# if __name__=\"__main__\"  <- that will be executed if we run a code directly, otherwise 'else' will be exucuted if we import something."
      ],
      "metadata": {
        "id": "0p7oIpRqwNWa"
      },
      "execution_count": null,
      "outputs": []
    },
    {
      "cell_type": "code",
      "source": [
        "try:\n",
        "    f = open(\"testfile\", \"w\")\n",
        "    f.write(\"Test write statement\")\n",
        "    f.close()\n",
        "finally:\n",
        "    print(\"Always execute finally code blocks\")"
      ],
      "metadata": {
        "colab": {
          "base_uri": "https://localhost:8080/"
        },
        "id": "uTxxYzm608rH",
        "outputId": "13e97d3b-142d-4e1b-b38b-691fb9002b53"
      },
      "execution_count": null,
      "outputs": [
        {
          "output_type": "stream",
          "name": "stdout",
          "text": [
            "Always execute finally code blocks\n"
          ]
        }
      ]
    },
    {
      "cell_type": "code",
      "source": [
        "#HW on exception handling\n"
      ],
      "metadata": {
        "id": "6e_JJhOH1aWy"
      },
      "execution_count": null,
      "outputs": []
    },
    {
      "cell_type": "code",
      "source": [
        "try:\n",
        "  for i in ['a','b','c']:\n",
        "    print(i**2)\n",
        "except:\n",
        "  print('There was an error executing it')"
      ],
      "metadata": {
        "colab": {
          "base_uri": "https://localhost:8080/"
        },
        "id": "wlxZL0L534TN",
        "outputId": "ed96004b-b053-4563-faef-7f670d373a4a"
      },
      "execution_count": null,
      "outputs": [
        {
          "output_type": "stream",
          "name": "stdout",
          "text": [
            "There was an error executing it\n"
          ]
        }
      ]
    },
    {
      "cell_type": "code",
      "source": [
        "x=5\n",
        "y=0\n",
        "try:\n",
        "  z=x/y\n",
        "  print(z)\n",
        "except ZeroDivisionError:\n",
        "  print(\"You cant divide a number with 0\")\n",
        "finally:\n",
        "  print('All Done')"
      ],
      "metadata": {
        "colab": {
          "base_uri": "https://localhost:8080/"
        },
        "id": "PmnXhbjl4diT",
        "outputId": "c7845198-2bef-43ae-99b1-ffacc0aa6001"
      },
      "execution_count": null,
      "outputs": [
        {
          "output_type": "stream",
          "name": "stdout",
          "text": [
            "You cant divide a number with 0\n",
            "All Done\n"
          ]
        }
      ]
    },
    {
      "cell_type": "code",
      "source": [
        "def ask():\n",
        "  while True:\n",
        "    try:\n",
        "      p=int(input(\"Input an integer: \"))\n",
        "    except:\n",
        "      print('An error occured! Please try again!')\n",
        "      continue\n",
        "    else:\n",
        "      print('Thank you, your squared is: {}'.format(p**2))\n",
        "      break"
      ],
      "metadata": {
        "id": "D4Qrgo-U5D7g"
      },
      "execution_count": null,
      "outputs": []
    },
    {
      "cell_type": "code",
      "source": [
        "ask()"
      ],
      "metadata": {
        "colab": {
          "base_uri": "https://localhost:8080/"
        },
        "id": "CpwFfjQE6VOf",
        "outputId": "c1e9deea-038e-4d32-ecc3-667f9c38d70f"
      },
      "execution_count": null,
      "outputs": [
        {
          "output_type": "stream",
          "name": "stdout",
          "text": [
            "Input an integer: null\n",
            "An error occured! Please try again!\n",
            "Input an integer: 2\n",
            "Thank you, your squared is: 4\n"
          ]
        }
      ]
    },
    {
      "cell_type": "code",
      "source": [
        "# milestone project-2\n"
      ],
      "metadata": {
        "id": "hEov7ERNLY_H"
      },
      "execution_count": null,
      "outputs": []
    }
  ],
  "metadata": {
    "colab": {
      "name": "Udemy_python.ipynb",
      "provenance": [],
      "collapsed_sections": [],
      "authorship_tag": "ABX9TyNLghBBGv5dd0licX/WDNYT",
      "include_colab_link": true
    },
    "kernelspec": {
      "display_name": "Python 3",
      "name": "python3"
    },
    "language_info": {
      "name": "python"
    }
  },
  "nbformat": 4,
  "nbformat_minor": 0
}